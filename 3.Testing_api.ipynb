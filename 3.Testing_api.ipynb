{
 "cells": [
  {
   "cell_type": "code",
   "execution_count": 7,
   "id": "093d0f93",
   "metadata": {},
   "outputs": [],
   "source": [
    "import requests"
   ]
  },
  {
   "cell_type": "code",
   "execution_count": 8,
   "id": "05f5e452",
   "metadata": {},
   "outputs": [
    {
     "name": "stdout",
     "output_type": "stream",
     "text": [
      "{'message': 'holla bro'}\n",
      "status_code:  200\n"
     ]
    }
   ],
   "source": [
    "#get request to hello path\n",
    "url = \"http://127.0.0.1:8000/hello\"\n",
    "response = requests.get(url=url)\n",
    "print(response.json())\n",
    "print('status_code: ', response.status_code)"
   ]
  },
  {
   "cell_type": "code",
   "execution_count": 9,
   "id": "c5ff882e",
   "metadata": {},
   "outputs": [
    {
     "name": "stdout",
     "output_type": "stream",
     "text": [
      "user_id=12\n",
      "user_id=12 success=True message='anything' user_recommendations={}\n"
     ]
    }
   ],
   "source": [
    "#Pydantic Basemodel for the popularity recommender\n",
    "from recomender_fastapi import RecIn, RecOut\n",
    "recin = RecIn(user_id = 12)\n",
    "print(recin)\n",
    "recout = RecOut(user_id = 12, success=True, message = 'anything', user_recommendations={})\n",
    "print(recout)"
   ]
  },
  {
   "cell_type": "code",
   "execution_count": 10,
   "id": "d16b4b23",
   "metadata": {},
   "outputs": [
    {
     "name": "stdout",
     "output_type": "stream",
     "text": [
      "response code: 200\n",
      "{'user_id': 12, 'success': True, 'message': \"popularity model stored at 'models\\\\popularity_based_recommender.pkl'.\", 'user_recommendations': {'artistName': {'0': 'Lady Gaga', '1': 'Britney Spears', '2': 'Rihanna', '3': 'The Beatles', '4': 'Katy Perry', '5': 'Madonna', '6': 'Avril Lavigne', '7': 'Christina Aguilera', '8': 'Muse', '9': 'Paramore'}}}\n"
     ]
    }
   ],
   "source": [
    "#post\n",
    "# URL of `/fit` path\n",
    "url = 'http://127.0.0.1:8000/rec'\n",
    "\n",
    "# Data to send to path\n",
    "json = {'user_id' : 12}\n",
    "# Response of post request\n",
    "response = requests.post(url=url, json=json)\n",
    "# Inspect response\n",
    "print(\"response code:\", response.status_code)\n",
    "print(response.json())"
   ]
  },
  {
   "cell_type": "code",
   "execution_count": 11,
   "id": "8e085235",
   "metadata": {},
   "outputs": [
    {
     "name": "stdout",
     "output_type": "stream",
     "text": [
      "user_id=12 n_recommendations=10\n",
      "user_id=12 n_recommendations=10 success=True message='awesome' recommendations={}\n"
     ]
    }
   ],
   "source": [
    "#Pydantic basemodel for implicit recommender model\n",
    "from recomender_fastapi import Rec2In, Rec2Out\n",
    "rec2in = Rec2In(user_id= 12, n_recommendations= 10)\n",
    "print(rec2in)\n",
    "rec2out = Rec2Out(user_id= 12, n_recommendations= 10, success = True, message = 'awesome', recommendations= {})\n",
    "print(rec2out)"
   ]
  },
  {
   "cell_type": "code",
   "execution_count": 12,
   "id": "a6c59a64",
   "metadata": {},
   "outputs": [
    {
     "name": "stdout",
     "output_type": "stream",
     "text": [
      "response code: 200\n",
      "{'user_id': 12, 'n_recommendations': 10, 'success': True, 'message': \"ALS model prepared and stored at 'models2\\\\implicit.pkl'.\", 'recommendations': {'Skillet': '1.38', 'Mindless Self Indulgence': '1.36', 'Gorillaz': '1.25', 'Björk': '1.18', 'AFI': '1.16', 'Tool': '1.14', 'City and Colour': '1.13', 'Eminem': '1.12', 'The Used': '1.11', 'You Me At Six': '1.10'}}\n"
     ]
    }
   ],
   "source": [
    "#post\n",
    "# URL of `/fit` path\n",
    "url = 'http://127.0.0.1:8000/rec2'\n",
    "# Data to send to path\n",
    "json = {'user_id' : 12, 'n_recommendations' : 10}\n",
    "# Response of post request\n",
    "response = requests.post(url=url, json=json)\n",
    "# Inspect response\n",
    "print(\"response code:\", response.status_code)\n",
    "print(response.json())"
   ]
  },
  {
   "cell_type": "code",
   "execution_count": null,
   "id": "b4c784e6",
   "metadata": {},
   "outputs": [],
   "source": []
  }
 ],
 "metadata": {
  "kernelspec": {
   "display_name": "Python 3",
   "language": "python",
   "name": "python3"
  },
  "language_info": {
   "codemirror_mode": {
    "name": "ipython",
    "version": 3
   },
   "file_extension": ".py",
   "mimetype": "text/x-python",
   "name": "python",
   "nbconvert_exporter": "python",
   "pygments_lexer": "ipython3",
   "version": "3.8.8"
  }
 },
 "nbformat": 4,
 "nbformat_minor": 5
}
