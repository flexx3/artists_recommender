{
 "cells": [
  {
   "cell_type": "markdown",
   "id": "286fa58b",
   "metadata": {},
   "source": [
    "## Testing The Popularity based Recommender"
   ]
  },
  {
   "cell_type": "code",
   "execution_count": 1,
   "id": "969f2fa4",
   "metadata": {},
   "outputs": [],
   "source": [
    "#Import popularity recommender class from model file\n",
    "from model import Popularity"
   ]
  },
  {
   "cell_type": "code",
   "execution_count": 2,
   "id": "ad891c8c",
   "metadata": {},
   "outputs": [],
   "source": [
    "#instantiate the model\n",
    "model = Popularity()"
   ]
  },
  {
   "cell_type": "code",
   "execution_count": 3,
   "id": "9aa74fab",
   "metadata": {},
   "outputs": [],
   "source": [
    "#create the popularity model\n",
    "model.create()"
   ]
  },
  {
   "cell_type": "code",
   "execution_count": 4,
   "id": "d03f7655",
   "metadata": {},
   "outputs": [
    {
     "data": {
      "text/plain": [
       "{'artistName': {0: 'Lady Gaga',\n",
       "  1: 'Britney Spears',\n",
       "  2: 'Rihanna',\n",
       "  3: 'The Beatles',\n",
       "  4: 'Katy Perry',\n",
       "  5: 'Madonna',\n",
       "  6: 'Avril Lavigne',\n",
       "  7: 'Christina Aguilera',\n",
       "  8: 'Muse',\n",
       "  9: 'Paramore'}}"
      ]
     },
     "execution_count": 4,
     "metadata": {},
     "output_type": "execute_result"
    }
   ],
   "source": [
    "#Generate recommendations using the popularity based model\n",
    "model.recommend(user_id=12)"
   ]
  },
  {
   "cell_type": "code",
   "execution_count": 5,
   "id": "fd828c06",
   "metadata": {},
   "outputs": [
    {
     "data": {
      "text/plain": [
       "'models\\\\popularity_based_recommender.pkl'"
      ]
     },
     "execution_count": 5,
     "metadata": {},
     "output_type": "execute_result"
    }
   ],
   "source": [
    "#save model\n",
    "model.dump()"
   ]
  },
  {
   "cell_type": "code",
   "execution_count": 6,
   "id": "3a5e3860",
   "metadata": {},
   "outputs": [
    {
     "data": {
      "text/plain": [
       "{'artistName': {0: 'Lady Gaga',\n",
       "  1: 'Britney Spears',\n",
       "  2: 'Rihanna',\n",
       "  3: 'The Beatles',\n",
       "  4: 'Katy Perry',\n",
       "  5: 'Madonna',\n",
       "  6: 'Avril Lavigne',\n",
       "  7: 'Christina Aguilera',\n",
       "  8: 'Muse',\n",
       "  9: 'Paramore'}}"
      ]
     },
     "execution_count": 6,
     "metadata": {},
     "output_type": "execute_result"
    }
   ],
   "source": [
    "#load model\n",
    "model.load()"
   ]
  },
  {
   "cell_type": "markdown",
   "id": "3865a333",
   "metadata": {},
   "source": [
    "## Testing The Collaborative Based Recommender"
   ]
  },
  {
   "cell_type": "code",
   "execution_count": null,
   "id": "f7d3ba5a",
   "metadata": {},
   "outputs": [],
   "source": [
    "#import implicit recommender class for collaborative filtering from model file\n",
    "from model import Implicit_recommender\n",
    "#import implicit to instantiate the recommender base model\n",
    "import implicit\n",
    "#import data for collaborative filtering\n",
    "from data import collaborative_data"
   ]
  },
  {
   "cell_type": "code",
   "execution_count": null,
   "id": "e67db504",
   "metadata": {},
   "outputs": [],
   "source": [
    "#instantiate data for collaborative filtering\n",
    "data = collaborative_data()"
   ]
  },
  {
   "cell_type": "code",
   "execution_count": null,
   "id": "b9bd9173",
   "metadata": {},
   "outputs": [],
   "source": [
    "#load user_artists matrix\n",
    "user_artists = data.get_user_artist_data_csr(\"./dataset/user_artists.dat\")"
   ]
  },
  {
   "cell_type": "code",
   "execution_count": null,
   "id": "39dd3302",
   "metadata": {},
   "outputs": [],
   "source": [
    "#load artist retriever data\n",
    "artists_data = data.load_artists(\"./dataset/artists.dat\")"
   ]
  },
  {
   "cell_type": "code",
   "execution_count": null,
   "id": "4b92f1e7",
   "metadata": {},
   "outputs": [],
   "source": [
    "#instantiate ALS using implicit\n",
    "ALS = implicit.als.AlternatingLeastSquares(\n",
    "    factors=50, iterations=10, regularization=0.01\n",
    ")"
   ]
  },
  {
   "cell_type": "code",
   "execution_count": null,
   "id": "e0598d09",
   "metadata": {},
   "outputs": [],
   "source": [
    "#instantiate recommender\n",
    "recommender = Implicit_recommender(artist_retriever=data, implicit_model=ALS)\n",
    "#fit user_artists data\n",
    "recommender.fit(user_artists)"
   ]
  },
  {
   "cell_type": "code",
   "execution_count": null,
   "id": "db886e3b",
   "metadata": {},
   "outputs": [],
   "source": [
    "#recommend artists to user(s)\n",
    "artists, scores = recommender.recommend(12, user_artists, n=10)"
   ]
  },
  {
   "cell_type": "code",
   "execution_count": null,
   "id": "22387b38",
   "metadata": {},
   "outputs": [],
   "source": [
    "#output results\n",
    "for artists, score in zip(artists, scores):\n",
    "    print(f\"{artists}: {score}\")"
   ]
  },
  {
   "cell_type": "code",
   "execution_count": null,
   "id": "0aca9229",
   "metadata": {},
   "outputs": [],
   "source": [
    "#save model\n",
    "recommender.dump()"
   ]
  },
  {
   "cell_type": "code",
   "execution_count": null,
   "id": "ef5d238f",
   "metadata": {},
   "outputs": [],
   "source": [
    "#load model\n",
    "recommender.load()"
   ]
  },
  {
   "cell_type": "code",
   "execution_count": null,
   "id": "1f6c6c60",
   "metadata": {},
   "outputs": [],
   "source": [
    "print(type(recommender))"
   ]
  },
  {
   "cell_type": "code",
   "execution_count": null,
   "id": "4896b1ac",
   "metadata": {},
   "outputs": [],
   "source": []
  }
 ],
 "metadata": {
  "kernelspec": {
   "display_name": "Python 3",
   "language": "python",
   "name": "python3"
  },
  "language_info": {
   "codemirror_mode": {
    "name": "ipython",
    "version": 3
   },
   "file_extension": ".py",
   "mimetype": "text/x-python",
   "name": "python",
   "nbconvert_exporter": "python",
   "pygments_lexer": "ipython3",
   "version": "3.8.8"
  }
 },
 "nbformat": 4,
 "nbformat_minor": 5
}
